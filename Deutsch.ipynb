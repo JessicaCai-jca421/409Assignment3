{
 "cells": [
  {
   "cell_type": "code",
   "execution_count": 74,
   "id": "77d00002",
   "metadata": {},
   "outputs": [
    {
     "data": {
      "text/plain": [
       "<qiskit.circuit.instructionset.InstructionSet at 0x7f841d7cc2e0>"
      ]
     },
     "execution_count": 74,
     "metadata": {},
     "output_type": "execute_result"
    }
   ],
   "source": [
    "import qiskit # call the qiskit's module\n",
    "\n",
    "def constant1():\n",
    "    return\n",
    "def constant2():\n",
    "    program.x(qr[0])\n",
    "    return\n",
    "def balanced():\n",
    "    program.cx(qr[0], qr[1])\n",
    "    return\n",
    "qr = qiskit.QuantumRegister(2) # call a quantum bit (or qubit)\n",
    "cr = qiskit.ClassicalRegister(1) # call a clasical bit\n",
    "program = qiskit.QuantumCircuit(qr, cr) # The quantum circuit is generated from the previous qubit and bit\n",
    "program.h(qr[0])\n",
    "program.x(qr[1])\n",
    "program.h(qr[1])\n",
    "program.barrier()\n",
    "constant1()\n",
    "program.barrier()\n",
    "program.h(qr[0])\n",
    "program.barrier()"
   ]
  },
  {
   "cell_type": "code",
   "execution_count": 75,
   "id": "6a748818",
   "metadata": {},
   "outputs": [
    {
     "data": {
      "text/plain": [
       "<qiskit.circuit.instructionset.InstructionSet at 0x7f841d7dea30>"
      ]
     },
     "execution_count": 75,
     "metadata": {},
     "output_type": "execute_result"
    }
   ],
   "source": [
    "program.measure(qr[0],cr) # The qubit is measured and stored in the classic bit."
   ]
  },
  {
   "cell_type": "code",
   "execution_count": 76,
   "id": "d2d0c157",
   "metadata": {},
   "outputs": [
    {
     "data": {
      "text/html": [
       "<pre style=\"word-wrap: normal;white-space: pre;background: #fff0;line-height: 1.1;font-family: &quot;Courier New&quot;,Courier,monospace\">       ┌───┐      ░  ░ ┌───┐ ░ ┌─┐\n",
       "q77_0: ┤ H ├──────░──░─┤ H ├─░─┤M├\n",
       "       ├───┤┌───┐ ░  ░ └───┘ ░ └╥┘\n",
       "q77_1: ┤ X ├┤ H ├─░──░───────░──╫─\n",
       "       └───┘└───┘ ░  ░       ░  ║ \n",
       "c13: 1/═════════════════════════╩═\n",
       "                                0 </pre>"
      ],
      "text/plain": [
       "       ┌───┐      ░  ░ ┌───┐ ░ ┌─┐\n",
       "q77_0: ┤ H ├──────░──░─┤ H ├─░─┤M├\n",
       "       ├───┤┌───┐ ░  ░ └───┘ ░ └╥┘\n",
       "q77_1: ┤ X ├┤ H ├─░──░───────░──╫─\n",
       "       └───┘└───┘ ░  ░       ░  ║ \n",
       "c13: 1/═════════════════════════╩═\n",
       "                                0 "
      ]
     },
     "execution_count": 76,
     "metadata": {},
     "output_type": "execute_result"
    }
   ],
   "source": [
    "program.draw()"
   ]
  },
  {
   "cell_type": "code",
   "execution_count": 77,
   "id": "7609cd74",
   "metadata": {},
   "outputs": [
    {
     "data": {
      "image/png": "[encoded data removed]",
      "text/plain": [
       "<Figure size 534.395x204.68 with 1 Axes>"
      ]
     },
     "execution_count": 77,
     "metadata": {},
     "output_type": "execute_result"
    }
   ],
   "source": [
    "%matplotlib inline\n",
    "program.draw(output=\"mpl\")"
   ]
  },
  {
   "cell_type": "code",
   "execution_count": 78,
   "id": "d14f30a6",
   "metadata": {},
   "outputs": [],
   "source": [
    "job = qiskit.execute( program, qiskit.BasicAer.get_backend('qasm_simulator') )"
   ]
  },
  {
   "cell_type": "code",
   "execution_count": 79,
   "id": "9280dda1",
   "metadata": {},
   "outputs": [
    {
     "name": "stdout",
     "output_type": "stream",
     "text": [
      "{'0': 1024}\n"
     ]
    }
   ],
   "source": [
    "print( job.result().get_counts() )"
   ]
  },
  {
   "cell_type": "code",
   "execution_count": 80,
   "id": "13ff56b8",
   "metadata": {},
   "outputs": [
    {
     "data": {
      "image/png": "[encoded data removed]",
      "text/plain": [
       "<Figure size 504x360 with 1 Axes>"
      ]
     },
     "execution_count": 80,
     "metadata": {},
     "output_type": "execute_result"
    }
   ],
   "source": [
    "qiskit.visualization.plot_histogram(job.result().get_counts(program))"
   ]
  },
  {
   "cell_type": "code",
   "execution_count": 83,
   "id": "e0e2ad87",
   "metadata": {},
   "outputs": [
    {
     "data": {
      "text/plain": [
       "<AccountProvider for IBMQ(hub='ibm-q', group='open', project='main')>"
      ]
     },
     "execution_count": 83,
     "metadata": {},
     "output_type": "execute_result"
    }
   ],
   "source": [
    "qiskit.IBMQ.save_account('your token',overwrite=True) #Replace the text my_token for your own token\n",
    "qiskit.IBMQ.load_account() # load the token"
   ]
  },
  {
   "cell_type": "code",
   "execution_count": 84,
   "id": "7c6a8c60",
   "metadata": {},
   "outputs": [
    {
     "name": "stdout",
     "output_type": "stream",
     "text": [
      "ibmq_qasm_simulator : 0 & simulated qubits\n",
      "ibmq_lima : 22 & simulated qubits\n",
      "ibmq_belem : 38 & simulated qubits\n",
      "ibmq_quito : 14 & simulated qubits\n",
      "simulator_statevector : 0 & simulated qubits\n",
      "simulator_mps : 0 & simulated qubits\n",
      "simulator_extended_stabilizer : 0 & simulated qubits\n",
      "simulator_stabilizer : 0 & simulated qubits\n",
      "ibmq_manila : 29 & simulated qubits\n",
      "ibm_nairobi : 31 & simulated qubits\n",
      "ibm_oslo : 79 & simulated qubits\n"
     ]
    }
   ],
   "source": [
    "provider = qiskit.IBMQ.get_provider(\"ibm-q\") # select the provider\n",
    "for backend in provider.backends():\n",
    "    try:\n",
    "        qubit_count = len(backend.properties().quibitss)\n",
    "    except:\n",
    "        qubit_count = \"simulated\"\n",
    "    print(f\"{backend.name()} : {backend.status().pending_jobs} & {qubit_count} qubits\")"
   ]
  },
  {
   "cell_type": "code",
   "execution_count": 85,
   "id": "16da7ed7",
   "metadata": {},
   "outputs": [
    {
     "name": "stdout",
     "output_type": "stream",
     "text": [
      "real device: ibmq_lima\n"
     ]
    }
   ],
   "source": [
    "backend = provider.get_backend('ibmq_lima') # select the name of the quatum computer to use\n",
    "print(\"real device:\",backend.name())\n",
    "job = qiskit.execute(program, backend)"
   ]
  },
  {
   "cell_type": "code",
   "execution_count": 86,
   "id": "3e6cd869",
   "metadata": {},
   "outputs": [
    {
     "name": "stdout",
     "output_type": "stream",
     "text": [
      "{'0': 3975, '1': 25}\n"
     ]
    }
   ],
   "source": [
    "print(job.result().get_counts()) # show the result"
   ]
  },
  {
   "cell_type": "code",
   "execution_count": 87,
   "id": "3869862d",
   "metadata": {},
   "outputs": [
    {
     "data": {
      "image/png": "[encoded data removed]",
      "text/plain": [
       "<Figure size 504x360 with 1 Axes>"
      ]
     },
     "execution_count": 87,
     "metadata": {},
     "output_type": "execute_result"
    }
   ],
   "source": [
    "qiskit.visualization.plot_histogram(job.result().get_counts())"
   ]
  },
  {
   "cell_type": "code",
   "execution_count": null,
   "id": "a155e28f",
   "metadata": {},
   "outputs": [],
   "source": [
    "#Reference\n",
    "#https://leimao.github.io/blog/Deutsch-Algorithm/\n",
    "#Lecture Notes \"Weeks 7-8 2022.pdf\"\n",
    "#\"program.barrier()\" https://github.com/atilsamancioglu/QX07-DeutschAlgorithm\n",
    "#\"use X Gate to simulate constant functions\" https://github.com/MakotoNakai/Deutch-Algorithm/blob/master/Deutch_constant.py\n",
    "#\"use IBMQ\" https://fullstackquantumcomputation.tech/blog/post-tutorial-0-Hello-world/"
   ]
  }
 ],
 "metadata": {
  "kernelspec": {
   "display_name": "Python 3 (ipykernel)",
   "language": "python",
   "name": "python3"
  },
  "language_info": {
   "codemirror_mode": {
    "name": "ipython",
    "version": 3
   },
   "file_extension": ".py",
   "mimetype": "text/x-python",
   "name": "python",
   "nbconvert_exporter": "python",
   "pygments_lexer": "ipython3",
   "version": "3.9.7"
  }
 },
 "nbformat": 4,
 "nbformat_minor": 5
}
