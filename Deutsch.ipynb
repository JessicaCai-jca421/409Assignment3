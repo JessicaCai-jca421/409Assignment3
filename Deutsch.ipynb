{
 "cells": [
  {
   "cell_type": "code",
   "execution_count": 43,
   "id": "77d00002",
   "metadata": {},
   "outputs": [
    {
     "data": {
      "text/plain": [
       "<qiskit.circuit.instructionset.InstructionSet at 0x7f841cf9f0a0>"
      ]
     },
     "execution_count": 43,
     "metadata": {},
     "output_type": "execute_result"
    }
   ],
   "source": [
    "import qiskit # call the qiskit's module\n",
    "\n",
    "def constant():\n",
    "\tprogram.x(qr[0])\n",
    "def balanced():\n",
    "\tprogram.cx(qr[0], qr[1])\n",
    "qr = qiskit.QuantumRegister(2) # call a quantum bit (or qubit)\n",
    "cr = qiskit.ClassicalRegister(1) # call a clasical bit\n",
    "program = qiskit.QuantumCircuit(qr, cr) # The quantum circuit is generated from the previous qubit and bit\n",
    "program.h(qr[0])\n",
    "program.x(qr[1])\n",
    "program.h(qr[1])\n",
    "program.barrier()\n",
    "constant()\n",
    "program.barrier()\n",
    "program.h(qr[0])\n",
    "program.barrier()"
   ]
  },
  {
   "cell_type": "code",
   "execution_count": 44,
   "id": "6a748818",
   "metadata": {},
   "outputs": [
    {
     "data": {
      "text/plain": [
       "<qiskit.circuit.instructionset.InstructionSet at 0x7f841cff3850>"
      ]
     },
     "execution_count": 44,
     "metadata": {},
     "output_type": "execute_result"
    }
   ],
   "source": [
    "program.measure(qr[0],cr) # The qubit is measured and stored in the classic bit."
   ]
  },
  {
   "cell_type": "code",
   "execution_count": 45,
   "id": "d2d0c157",
   "metadata": {},
   "outputs": [
    {
     "data": {
      "text/html": [
       "<pre style=\"word-wrap: normal;white-space: pre;background: #fff0;line-height: 1.1;font-family: &quot;Courier New&quot;,Courier,monospace\">       ┌───┐      ░ ┌───┐ ░ ┌───┐ ░ ┌─┐\n",
       "q45_0: ┤ H ├──────░─┤ X ├─░─┤ H ├─░─┤M├\n",
       "       ├───┤┌───┐ ░ └───┘ ░ └───┘ ░ └╥┘\n",
       "q45_1: ┤ X ├┤ H ├─░───────░───────░──╫─\n",
       "       └───┘└───┘ ░       ░       ░  ║ \n",
       " c7: 1/══════════════════════════════╩═\n",
       "                                     0 </pre>"
      ],
      "text/plain": [
       "       ┌───┐      ░ ┌───┐ ░ ┌───┐ ░ ┌─┐\n",
       "q45_0: ┤ H ├──────░─┤ X ├─░─┤ H ├─░─┤M├\n",
       "       ├───┤┌───┐ ░ └───┘ ░ └───┘ ░ └╥┘\n",
       "q45_1: ┤ X ├┤ H ├─░───────░───────░──╫─\n",
       "       └───┘└───┘ ░       ░       ░  ║ \n",
       " c7: 1/══════════════════════════════╩═\n",
       "                                     0 "
      ]
     },
     "execution_count": 45,
     "metadata": {},
     "output_type": "execute_result"
    }
   ],
   "source": [
    "program.draw()"
   ]
  },
  {
   "cell_type": "code",
   "execution_count": 46,
   "id": "7609cd74",
   "metadata": {},
   "outputs": [
    {
     "data": {
      "image/png": "[encoded data removed]",
      "text/plain": [
       "<Figure size 594.595x204.68 with 1 Axes>"
      ]
     },
     "execution_count": 46,
     "metadata": {},
     "output_type": "execute_result"
    }
   ],
   "source": [
    "%matplotlib inline\n",
    "program.draw(output=\"mpl\")"
   ]
  },
  {
   "cell_type": "code",
   "execution_count": 47,
   "id": "d14f30a6",
   "metadata": {},
   "outputs": [],
   "source": [
    "job = qiskit.execute( program, qiskit.BasicAer.get_backend('qasm_simulator') )"
   ]
  },
  {
   "cell_type": "code",
   "execution_count": 48,
   "id": "9280dda1",
   "metadata": {},
   "outputs": [
    {
     "name": "stdout",
     "output_type": "stream",
     "text": [
      "{'0': 1024}\n"
     ]
    }
   ],
   "source": [
    "print( job.result().get_counts() )"
   ]
  },
  {
   "cell_type": "code",
   "execution_count": 49,
   "id": "13ff56b8",
   "metadata": {},
   "outputs": [
    {
     "data": {
      "image/png": "[encoded data removed]",
      "text/plain": [
       "<Figure size 504x360 with 1 Axes>"
      ]
     },
     "execution_count": 49,
     "metadata": {},
     "output_type": "execute_result"
    }
   ],
   "source": [
    "qiskit.visualization.plot_histogram(job.result().get_counts(program))"
   ]
  },
  {
   "cell_type": "code",
   "execution_count": 8,
   "id": "e0e2ad87",
   "metadata": {},
   "outputs": [
    {
     "data": {
      "text/plain": [
       "<AccountProvider for IBMQ(hub='ibm-q', group='open', project='main')>"
      ]
     },
     "execution_count": 8,
     "metadata": {},
     "output_type": "execute_result"
    }
   ],
   "source": [
    "qiskit.IBMQ.save_account('your_token',overwrite=True) #Replace the text my_token for your own token\n",
    "qiskit.IBMQ.load_account() # load the token"
   ]
  },
  {
   "cell_type": "code",
   "execution_count": 11,
   "id": "2f9458c4",
   "metadata": {},
   "outputs": [
    {
     "name": "stdout",
     "output_type": "stream",
     "text": [
      "ibmq_qasm_simulator : 4 & simulated qubits\n",
      "ibmq_lima : 25 & simulated qubits\n",
      "ibmq_belem : 33 & simulated qubits\n",
      "ibmq_quito : 27 & simulated qubits\n",
      "simulator_statevector : 6 & simulated qubits\n",
      "simulator_mps : 6 & simulated qubits\n",
      "simulator_extended_stabilizer : 6 & simulated qubits\n",
      "simulator_stabilizer : 6 & simulated qubits\n",
      "ibmq_manila : 13 & simulated qubits\n",
      "ibm_nairobi : 16 & simulated qubits\n",
      "ibm_oslo : 44 & simulated qubits\n"
     ]
    }
   ],
   "source": [
    "provider = qiskit.IBMQ.get_provider(\"ibm-q\")\n",
    "for backend in provider.backends():\n",
    "    try:\n",
    "        qubit_count = len(backend.properties().quibitss)\n",
    "    except:\n",
    "        qubit_count = \"simulated\"\n",
    "    print(f\"{backend.name()} : {backend.status().pending_jobs} & {qubit_count} qubits\")"
   ]
  },
  {
   "cell_type": "code",
   "execution_count": 50,
   "id": "16da7ed7",
   "metadata": {},
   "outputs": [
    {
     "name": "stdout",
     "output_type": "stream",
     "text": [
      "real device: ibmq_lima\n"
     ]
    }
   ],
   "source": [
    "provider = qiskit.IBMQ.get_provider('ibm-q') # select the provider\n",
    "backend = provider.get_backend('ibmq_lima') # select the name of the quatum computer to use\n",
    "print(\"real device:\",backend.name())\n",
    "job = qiskit.execute( program, backend )"
   ]
  },
  {
   "cell_type": "code",
   "execution_count": 51,
   "id": "3e6cd869",
   "metadata": {},
   "outputs": [
    {
     "name": "stdout",
     "output_type": "stream",
     "text": [
      "{'0': 3981, '1': 19}\n"
     ]
    }
   ],
   "source": [
    "print( job.result().get_counts() ) # show the result"
   ]
  },
  {
   "cell_type": "code",
   "execution_count": 52,
   "id": "3869862d",
   "metadata": {},
   "outputs": [
    {
     "data": {
      "image/png": "[encoded data removed]",
      "text/plain": [
       "<Figure size 504x360 with 1 Axes>"
      ]
     },
     "execution_count": 52,
     "metadata": {},
     "output_type": "execute_result"
    }
   ],
   "source": [
    "qiskit.visualization.plot_histogram(job.result().get_counts())"
   ]
  },
  {
   "cell_type": "code",
   "execution_count": null,
   "id": "a155e28f",
   "metadata": {},
   "outputs": [],
   "source": []
  }
 ],
 "metadata": {
  "kernelspec": {
   "display_name": "Python 3 (ipykernel)",
   "language": "python",
   "name": "python3"
  },
  "language_info": {
   "codemirror_mode": {
    "name": "ipython",
    "version": 3
   },
   "file_extension": ".py",
   "mimetype": "text/x-python",
   "name": "python",
   "nbconvert_exporter": "python",
   "pygments_lexer": "ipython3",
   "version": "3.9.7"
  }
 },
 "nbformat": 4,
 "nbformat_minor": 5
}
